{
 "cells": [
  {
   "cell_type": "markdown",
   "id": "3e598d7d",
   "metadata": {},
   "source": [
    "## Data Extracting"
   ]
  },
  {
   "cell_type": "code",
   "execution_count": 1,
   "id": "b74b913e",
   "metadata": {},
   "outputs": [],
   "source": [
    "# importing necessary libraries\n",
    "import requests\n",
    "from lxml import html\n",
    "from selenium import webdriver\n",
    "import re\n",
    "import time\n",
    "from bs4 import BeautifulSoup"
   ]
  },
  {
   "cell_type": "code",
   "execution_count": 2,
   "id": "1894c618",
   "metadata": {},
   "outputs": [],
   "source": [
    "import pandas as pd\n",
    "import numpy as np"
   ]
  },
  {
   "cell_type": "code",
   "execution_count": 3,
   "id": "aaf35351",
   "metadata": {},
   "outputs": [],
   "source": [
    "#loading the dataset\n",
    "urls_dataset = pd.read_excel('input.xlsx')"
   ]
  },
  {
   "cell_type": "code",
   "execution_count": 4,
   "id": "63ed7bfc",
   "metadata": {},
   "outputs": [],
   "source": [
    "urls_dataset.sort_values(by = 'URL_ID', ascending = True, inplace = True)"
   ]
  },
  {
   "cell_type": "code",
   "execution_count": 5,
   "id": "d90462af",
   "metadata": {},
   "outputs": [
    {
     "data": {
      "text/html": [
       "<div>\n",
       "<style scoped>\n",
       "    .dataframe tbody tr th:only-of-type {\n",
       "        vertical-align: middle;\n",
       "    }\n",
       "\n",
       "    .dataframe tbody tr th {\n",
       "        vertical-align: top;\n",
       "    }\n",
       "\n",
       "    .dataframe thead th {\n",
       "        text-align: right;\n",
       "    }\n",
       "</style>\n",
       "<table border=\"1\" class=\"dataframe\">\n",
       "  <thead>\n",
       "    <tr style=\"text-align: right;\">\n",
       "      <th></th>\n",
       "      <th>URL_ID</th>\n",
       "      <th>URL</th>\n",
       "    </tr>\n",
       "  </thead>\n",
       "  <tbody>\n",
       "    <tr>\n",
       "      <th>0</th>\n",
       "      <td>123.0</td>\n",
       "      <td>https://insights.blackcoffer.com/rise-of-telem...</td>\n",
       "    </tr>\n",
       "    <tr>\n",
       "      <th>1</th>\n",
       "      <td>321.0</td>\n",
       "      <td>https://insights.blackcoffer.com/rise-of-e-hea...</td>\n",
       "    </tr>\n",
       "    <tr>\n",
       "      <th>4</th>\n",
       "      <td>432.0</td>\n",
       "      <td>https://insights.blackcoffer.com/rise-of-telem...</td>\n",
       "    </tr>\n",
       "    <tr>\n",
       "      <th>2</th>\n",
       "      <td>2345.0</td>\n",
       "      <td>https://insights.blackcoffer.com/rise-of-e-hea...</td>\n",
       "    </tr>\n",
       "    <tr>\n",
       "      <th>5</th>\n",
       "      <td>2893.8</td>\n",
       "      <td>https://insights.blackcoffer.com/rise-of-chatb...</td>\n",
       "    </tr>\n",
       "  </tbody>\n",
       "</table>\n",
       "</div>"
      ],
      "text/plain": [
       "   URL_ID                                                URL\n",
       "0   123.0  https://insights.blackcoffer.com/rise-of-telem...\n",
       "1   321.0  https://insights.blackcoffer.com/rise-of-e-hea...\n",
       "4   432.0  https://insights.blackcoffer.com/rise-of-telem...\n",
       "2  2345.0  https://insights.blackcoffer.com/rise-of-e-hea...\n",
       "5  2893.8  https://insights.blackcoffer.com/rise-of-chatb..."
      ]
     },
     "execution_count": 5,
     "metadata": {},
     "output_type": "execute_result"
    }
   ],
   "source": [
    "urls_dataset.head()"
   ]
  },
  {
   "cell_type": "code",
   "execution_count": 14,
   "id": "104f01ef",
   "metadata": {},
   "outputs": [],
   "source": [
    "# creating a function to extract text from a url with given xpath\n",
    "from lxml import html\n",
    "def extract_text(url, xpath):\n",
    "    response = requests.get(url)\n",
    "    if response.status_code == 200:\n",
    "        tree = html.fromstring(response.content.decode('utf-8'))\n",
    "        extracted_text = []\n",
    "        elements = tree.xpath(xpath)\n",
    "        if elements:\n",
    "            extracted_text.extend([element.text_content() for element in elements])\n",
    "        return extracted_text\n",
    "    else:\n",
    "        print(f'ehh: {response.status_code}')\n",
    "        return []"
   ]
  },
  {
   "cell_type": "code",
   "execution_count": 7,
   "id": "16632d02",
   "metadata": {},
   "outputs": [],
   "source": [
    "# function for cleaning & saving the text in .txt files\n",
    "def save_to_txt(filename, text):\n",
    "    text = text.replace('\\n', ' ')\n",
    "    empty_lines = r'^\\s*$'\n",
    "    text = re.sub(empty_lines, '\\n', text)\n",
    "    text = text.replace('\\xa0',' ')\n",
    "    text = re.sub(r'Blackcoffer Insights.*', '', text)\n",
    "    text = text.lower().strip()\n",
    "    with open(filename, 'w', encoding = 'utf-8') as file:\n",
    "        file.write(text)"
   ]
  },
  {
   "cell_type": "markdown",
   "id": "62c274aa",
   "metadata": {},
   "source": [
    "**It was oberved that xpath for each url has different code for href value. So the code for each url has to be extracted first.**"
   ]
  },
  {
   "cell_type": "code",
   "execution_count": 8,
   "id": "6a8a0926",
   "metadata": {},
   "outputs": [
    {
     "name": "stdout",
     "output_type": "stream",
     "text": [
      "ehh in 25: 404\n",
      "ehh in 38: 404\n"
     ]
    }
   ],
   "source": [
    "html_code = []\n",
    "for idx, url in enumerate(urls_dataset.URL):\n",
    "    response = requests.get(url)\n",
    "    if response.status_code == 200:\n",
    "        lines = response.text.split('\\n')\n",
    "        if len(lines) >= 66:\n",
    "            html_code.append(lines[65])\n",
    "        else:\n",
    "            print(\"lines error\")\n",
    "    else:\n",
    "        print(f\"ehh in {idx+1}: {response.status_code}\")"
   ]
  },
  {
   "cell_type": "markdown",
   "id": "9108f84a",
   "metadata": {},
   "source": [
    "While extracting the href numbers, there was an error 404 in the row 25 & 28. That means there was no page available on the given url. We will remove these two urls later."
   ]
  },
  {
   "cell_type": "code",
   "execution_count": 9,
   "id": "aaceec31",
   "metadata": {
    "scrolled": true
   },
   "outputs": [],
   "source": [
    "numbers = []\n",
    "\n",
    "for html in html_code:\n",
    "    soup = BeautifulSoup(html, 'html.parser')\n",
    "    link_element = soup.find('link', rel='alternate')\n",
    "    href = link_element.get('href')\n",
    "    number = href.split('/')[-1]\n",
    "    numbers.append(number)"
   ]
  },
  {
   "cell_type": "code",
   "execution_count": 10,
   "id": "f55bcbfa",
   "metadata": {},
   "outputs": [],
   "source": [
    "# saving the xpaths for each url in a list\n",
    "xpaths = [f'//*[@id=\"post-{i}\"]/div[2]/div/div[1]' for i in numbers]"
   ]
  },
  {
   "cell_type": "code",
   "execution_count": 11,
   "id": "ca355002",
   "metadata": {},
   "outputs": [],
   "source": [
    "# removing the rows with incorrect urls\n",
    "urls_dataset.drop([24, 37], inplace = True)\n",
    "urls_dataset.reset_index(drop=True, inplace=True)"
   ]
  },
  {
   "cell_type": "code",
   "execution_count": 12,
   "id": "f4a817e7",
   "metadata": {},
   "outputs": [
    {
     "name": "stdout",
     "output_type": "stream",
     "text": [
      "112\n",
      "112\n"
     ]
    }
   ],
   "source": [
    "# separating urls & url ids as file_names\n",
    "urls = urls_dataset.URL\n",
    "file_names = urls_dataset.URL_ID\n",
    "print(len(urls))\n",
    "print(len(file_names))"
   ]
  },
  {
   "cell_type": "code",
   "execution_count": 15,
   "id": "be65a0ec",
   "metadata": {},
   "outputs": [
    {
     "name": "stdout",
     "output_type": "stream",
     "text": [
      "extraction completed for link 1. Text saved to C:\\Users\\rohit\\Python\\drive-download-20230909T190744Z-001\\extracted_articles\\123.0.txt\n",
      "extraction completed for link 2. Text saved to C:\\Users\\rohit\\Python\\drive-download-20230909T190744Z-001\\extracted_articles\\321.0.txt\n",
      "extraction completed for link 3. Text saved to C:\\Users\\rohit\\Python\\drive-download-20230909T190744Z-001\\extracted_articles\\432.0.txt\n",
      "No text was extracted for link 4.\n",
      "extraction completed for link 5. Text saved to C:\\Users\\rohit\\Python\\drive-download-20230909T190744Z-001\\extracted_articles\\2893.8.txt\n",
      "extraction completed for link 6. Text saved to C:\\Users\\rohit\\Python\\drive-download-20230909T190744Z-001\\extracted_articles\\3355.6.txt\n",
      "extraction completed for link 7. Text saved to C:\\Users\\rohit\\Python\\drive-download-20230909T190744Z-001\\extracted_articles\\3817.4.txt\n",
      "No text was extracted for link 8.\n",
      "extraction completed for link 9. Text saved to C:\\Users\\rohit\\Python\\drive-download-20230909T190744Z-001\\extracted_articles\\4321.0.txt\n",
      "extraction completed for link 10. Text saved to C:\\Users\\rohit\\Python\\drive-download-20230909T190744Z-001\\extracted_articles\\4741.0.txt\n",
      "extraction completed for link 11. Text saved to C:\\Users\\rohit\\Python\\drive-download-20230909T190744Z-001\\extracted_articles\\5202.8.txt\n",
      "extraction completed for link 12. Text saved to C:\\Users\\rohit\\Python\\drive-download-20230909T190744Z-001\\extracted_articles\\5664.6.txt\n",
      "extraction completed for link 13. Text saved to C:\\Users\\rohit\\Python\\drive-download-20230909T190744Z-001\\extracted_articles\\6126.4.txt\n",
      "extraction completed for link 14. Text saved to C:\\Users\\rohit\\Python\\drive-download-20230909T190744Z-001\\extracted_articles\\6588.2.txt\n",
      "extraction completed for link 15. Text saved to C:\\Users\\rohit\\Python\\drive-download-20230909T190744Z-001\\extracted_articles\\7050.0.txt\n",
      "extraction completed for link 16. Text saved to C:\\Users\\rohit\\Python\\drive-download-20230909T190744Z-001\\extracted_articles\\7511.8.txt\n",
      "extraction completed for link 17. Text saved to C:\\Users\\rohit\\Python\\drive-download-20230909T190744Z-001\\extracted_articles\\7973.6.txt\n",
      "No text was extracted for link 18.\n",
      "extraction completed for link 19. Text saved to C:\\Users\\rohit\\Python\\drive-download-20230909T190744Z-001\\extracted_articles\\8897.2.txt\n",
      "extraction completed for link 20. Text saved to C:\\Users\\rohit\\Python\\drive-download-20230909T190744Z-001\\extracted_articles\\9359.0.txt\n",
      "extraction completed for link 21. Text saved to C:\\Users\\rohit\\Python\\drive-download-20230909T190744Z-001\\extracted_articles\\9820.8.txt\n",
      "extraction completed for link 22. Text saved to C:\\Users\\rohit\\Python\\drive-download-20230909T190744Z-001\\extracted_articles\\10282.6.txt\n",
      "extraction completed for link 23. Text saved to C:\\Users\\rohit\\Python\\drive-download-20230909T190744Z-001\\extracted_articles\\10744.4.txt\n",
      "extraction completed for link 24. Text saved to C:\\Users\\rohit\\Python\\drive-download-20230909T190744Z-001\\extracted_articles\\11206.2.txt\n",
      "extraction completed for link 25. Text saved to C:\\Users\\rohit\\Python\\drive-download-20230909T190744Z-001\\extracted_articles\\12129.8.txt\n",
      "extraction completed for link 26. Text saved to C:\\Users\\rohit\\Python\\drive-download-20230909T190744Z-001\\extracted_articles\\12591.6.txt\n",
      "extraction completed for link 27. Text saved to C:\\Users\\rohit\\Python\\drive-download-20230909T190744Z-001\\extracted_articles\\13053.4.txt\n",
      "extraction completed for link 28. Text saved to C:\\Users\\rohit\\Python\\drive-download-20230909T190744Z-001\\extracted_articles\\13515.2.txt\n",
      "extraction completed for link 29. Text saved to C:\\Users\\rohit\\Python\\drive-download-20230909T190744Z-001\\extracted_articles\\13977.0.txt\n",
      "extraction completed for link 30. Text saved to C:\\Users\\rohit\\Python\\drive-download-20230909T190744Z-001\\extracted_articles\\14438.8.txt\n",
      "No text was extracted for link 31.\n",
      "extraction completed for link 32. Text saved to C:\\Users\\rohit\\Python\\drive-download-20230909T190744Z-001\\extracted_articles\\15362.4.txt\n",
      "extraction completed for link 33. Text saved to C:\\Users\\rohit\\Python\\drive-download-20230909T190744Z-001\\extracted_articles\\15824.2.txt\n",
      "extraction completed for link 34. Text saved to C:\\Users\\rohit\\Python\\drive-download-20230909T190744Z-001\\extracted_articles\\16286.0.txt\n",
      "extraction completed for link 35. Text saved to C:\\Users\\rohit\\Python\\drive-download-20230909T190744Z-001\\extracted_articles\\16747.8.txt\n",
      "extraction completed for link 36. Text saved to C:\\Users\\rohit\\Python\\drive-download-20230909T190744Z-001\\extracted_articles\\17209.6.txt\n",
      "extraction completed for link 37. Text saved to C:\\Users\\rohit\\Python\\drive-download-20230909T190744Z-001\\extracted_articles\\18133.2.txt\n",
      "extraction completed for link 38. Text saved to C:\\Users\\rohit\\Python\\drive-download-20230909T190744Z-001\\extracted_articles\\18595.0.txt\n",
      "extraction completed for link 39. Text saved to C:\\Users\\rohit\\Python\\drive-download-20230909T190744Z-001\\extracted_articles\\19056.8.txt\n",
      "extraction completed for link 40. Text saved to C:\\Users\\rohit\\Python\\drive-download-20230909T190744Z-001\\extracted_articles\\19518.6.txt\n",
      "extraction completed for link 41. Text saved to C:\\Users\\rohit\\Python\\drive-download-20230909T190744Z-001\\extracted_articles\\19980.4.txt\n",
      "extraction completed for link 42. Text saved to C:\\Users\\rohit\\Python\\drive-download-20230909T190744Z-001\\extracted_articles\\20442.2.txt\n",
      "extraction completed for link 43. Text saved to C:\\Users\\rohit\\Python\\drive-download-20230909T190744Z-001\\extracted_articles\\20904.0.txt\n",
      "extraction completed for link 44. Text saved to C:\\Users\\rohit\\Python\\drive-download-20230909T190744Z-001\\extracted_articles\\21365.8.txt\n",
      "extraction completed for link 45. Text saved to C:\\Users\\rohit\\Python\\drive-download-20230909T190744Z-001\\extracted_articles\\21827.6.txt\n",
      "extraction completed for link 46. Text saved to C:\\Users\\rohit\\Python\\drive-download-20230909T190744Z-001\\extracted_articles\\22289.4.txt\n",
      "extraction completed for link 47. Text saved to C:\\Users\\rohit\\Python\\drive-download-20230909T190744Z-001\\extracted_articles\\22751.2.txt\n",
      "extraction completed for link 48. Text saved to C:\\Users\\rohit\\Python\\drive-download-20230909T190744Z-001\\extracted_articles\\23213.0.txt\n",
      "extraction completed for link 49. Text saved to C:\\Users\\rohit\\Python\\drive-download-20230909T190744Z-001\\extracted_articles\\23674.8.txt\n",
      "extraction completed for link 50. Text saved to C:\\Users\\rohit\\Python\\drive-download-20230909T190744Z-001\\extracted_articles\\24136.6.txt\n",
      "extraction completed for link 51. Text saved to C:\\Users\\rohit\\Python\\drive-download-20230909T190744Z-001\\extracted_articles\\24598.4.txt\n",
      "extraction completed for link 52. Text saved to C:\\Users\\rohit\\Python\\drive-download-20230909T190744Z-001\\extracted_articles\\25060.2.txt\n",
      "extraction completed for link 53. Text saved to C:\\Users\\rohit\\Python\\drive-download-20230909T190744Z-001\\extracted_articles\\25522.0.txt\n",
      "extraction completed for link 54. Text saved to C:\\Users\\rohit\\Python\\drive-download-20230909T190744Z-001\\extracted_articles\\25983.8.txt\n",
      "extraction completed for link 55. Text saved to C:\\Users\\rohit\\Python\\drive-download-20230909T190744Z-001\\extracted_articles\\26445.6.txt\n",
      "extraction completed for link 56. Text saved to C:\\Users\\rohit\\Python\\drive-download-20230909T190744Z-001\\extracted_articles\\26907.4.txt\n",
      "extraction completed for link 57. Text saved to C:\\Users\\rohit\\Python\\drive-download-20230909T190744Z-001\\extracted_articles\\27369.2.txt\n",
      "extraction completed for link 58. Text saved to C:\\Users\\rohit\\Python\\drive-download-20230909T190744Z-001\\extracted_articles\\27831.0.txt\n",
      "extraction completed for link 59. Text saved to C:\\Users\\rohit\\Python\\drive-download-20230909T190744Z-001\\extracted_articles\\28292.8.txt\n",
      "extraction completed for link 60. Text saved to C:\\Users\\rohit\\Python\\drive-download-20230909T190744Z-001\\extracted_articles\\28754.6.txt\n",
      "extraction completed for link 61. Text saved to C:\\Users\\rohit\\Python\\drive-download-20230909T190744Z-001\\extracted_articles\\29216.4.txt\n",
      "extraction completed for link 62. Text saved to C:\\Users\\rohit\\Python\\drive-download-20230909T190744Z-001\\extracted_articles\\29678.2.txt\n",
      "extraction completed for link 63. Text saved to C:\\Users\\rohit\\Python\\drive-download-20230909T190744Z-001\\extracted_articles\\30140.0.txt\n"
     ]
    },
    {
     "name": "stdout",
     "output_type": "stream",
     "text": [
      "extraction completed for link 64. Text saved to C:\\Users\\rohit\\Python\\drive-download-20230909T190744Z-001\\extracted_articles\\30601.8.txt\n",
      "extraction completed for link 65. Text saved to C:\\Users\\rohit\\Python\\drive-download-20230909T190744Z-001\\extracted_articles\\31063.6.txt\n",
      "extraction completed for link 66. Text saved to C:\\Users\\rohit\\Python\\drive-download-20230909T190744Z-001\\extracted_articles\\31525.4.txt\n",
      "extraction completed for link 67. Text saved to C:\\Users\\rohit\\Python\\drive-download-20230909T190744Z-001\\extracted_articles\\31987.2.txt\n",
      "extraction completed for link 68. Text saved to C:\\Users\\rohit\\Python\\drive-download-20230909T190744Z-001\\extracted_articles\\32449.0.txt\n",
      "extraction completed for link 69. Text saved to C:\\Users\\rohit\\Python\\drive-download-20230909T190744Z-001\\extracted_articles\\32910.8.txt\n",
      "No text was extracted for link 70.\n",
      "No text was extracted for link 71.\n",
      "extraction completed for link 72. Text saved to C:\\Users\\rohit\\Python\\drive-download-20230909T190744Z-001\\extracted_articles\\34296.2.txt\n",
      "extraction completed for link 73. Text saved to C:\\Users\\rohit\\Python\\drive-download-20230909T190744Z-001\\extracted_articles\\34758.0.txt\n",
      "extraction completed for link 74. Text saved to C:\\Users\\rohit\\Python\\drive-download-20230909T190744Z-001\\extracted_articles\\35219.8.txt\n",
      "extraction completed for link 75. Text saved to C:\\Users\\rohit\\Python\\drive-download-20230909T190744Z-001\\extracted_articles\\35681.6.txt\n",
      "extraction completed for link 76. Text saved to C:\\Users\\rohit\\Python\\drive-download-20230909T190744Z-001\\extracted_articles\\36143.4.txt\n",
      "extraction completed for link 77. Text saved to C:\\Users\\rohit\\Python\\drive-download-20230909T190744Z-001\\extracted_articles\\36605.2.txt\n",
      "extraction completed for link 78. Text saved to C:\\Users\\rohit\\Python\\drive-download-20230909T190744Z-001\\extracted_articles\\37067.0.txt\n",
      "No text was extracted for link 79.\n",
      "extraction completed for link 80. Text saved to C:\\Users\\rohit\\Python\\drive-download-20230909T190744Z-001\\extracted_articles\\37990.6.txt\n",
      "extraction completed for link 81. Text saved to C:\\Users\\rohit\\Python\\drive-download-20230909T190744Z-001\\extracted_articles\\38452.4.txt\n",
      "extraction completed for link 82. Text saved to C:\\Users\\rohit\\Python\\drive-download-20230909T190744Z-001\\extracted_articles\\38914.2.txt\n",
      "extraction completed for link 83. Text saved to C:\\Users\\rohit\\Python\\drive-download-20230909T190744Z-001\\extracted_articles\\39376.0.txt\n",
      "extraction completed for link 84. Text saved to C:\\Users\\rohit\\Python\\drive-download-20230909T190744Z-001\\extracted_articles\\39837.8.txt\n",
      "extraction completed for link 85. Text saved to C:\\Users\\rohit\\Python\\drive-download-20230909T190744Z-001\\extracted_articles\\40299.6.txt\n",
      "No text was extracted for link 86.\n",
      "No text was extracted for link 87.\n",
      "extraction completed for link 88. Text saved to C:\\Users\\rohit\\Python\\drive-download-20230909T190744Z-001\\extracted_articles\\41685.0.txt\n",
      "extraction completed for link 89. Text saved to C:\\Users\\rohit\\Python\\drive-download-20230909T190744Z-001\\extracted_articles\\42146.8.txt\n",
      "extraction completed for link 90. Text saved to C:\\Users\\rohit\\Python\\drive-download-20230909T190744Z-001\\extracted_articles\\42608.6.txt\n",
      "No text was extracted for link 91.\n",
      "extraction completed for link 92. Text saved to C:\\Users\\rohit\\Python\\drive-download-20230909T190744Z-001\\extracted_articles\\43532.2.txt\n",
      "extraction completed for link 93. Text saved to C:\\Users\\rohit\\Python\\drive-download-20230909T190744Z-001\\extracted_articles\\43994.0.txt\n",
      "extraction completed for link 94. Text saved to C:\\Users\\rohit\\Python\\drive-download-20230909T190744Z-001\\extracted_articles\\44455.8.txt\n",
      "extraction completed for link 95. Text saved to C:\\Users\\rohit\\Python\\drive-download-20230909T190744Z-001\\extracted_articles\\44917.6.txt\n",
      "extraction completed for link 96. Text saved to C:\\Users\\rohit\\Python\\drive-download-20230909T190744Z-001\\extracted_articles\\45379.4.txt\n",
      "extraction completed for link 97. Text saved to C:\\Users\\rohit\\Python\\drive-download-20230909T190744Z-001\\extracted_articles\\45841.2.txt\n",
      "extraction completed for link 98. Text saved to C:\\Users\\rohit\\Python\\drive-download-20230909T190744Z-001\\extracted_articles\\46303.0.txt\n",
      "extraction completed for link 99. Text saved to C:\\Users\\rohit\\Python\\drive-download-20230909T190744Z-001\\extracted_articles\\46764.8.txt\n",
      "extraction completed for link 100. Text saved to C:\\Users\\rohit\\Python\\drive-download-20230909T190744Z-001\\extracted_articles\\47226.6.txt\n",
      "extraction completed for link 101. Text saved to C:\\Users\\rohit\\Python\\drive-download-20230909T190744Z-001\\extracted_articles\\47688.4.txt\n",
      "extraction completed for link 102. Text saved to C:\\Users\\rohit\\Python\\drive-download-20230909T190744Z-001\\extracted_articles\\48150.2.txt\n",
      "extraction completed for link 103. Text saved to C:\\Users\\rohit\\Python\\drive-download-20230909T190744Z-001\\extracted_articles\\48612.0.txt\n",
      "extraction completed for link 104. Text saved to C:\\Users\\rohit\\Python\\drive-download-20230909T190744Z-001\\extracted_articles\\49073.8.txt\n",
      "extraction completed for link 105. Text saved to C:\\Users\\rohit\\Python\\drive-download-20230909T190744Z-001\\extracted_articles\\49535.6.txt\n",
      "extraction completed for link 106. Text saved to C:\\Users\\rohit\\Python\\drive-download-20230909T190744Z-001\\extracted_articles\\49997.4.txt\n",
      "extraction completed for link 107. Text saved to C:\\Users\\rohit\\Python\\drive-download-20230909T190744Z-001\\extracted_articles\\50459.2.txt\n",
      "extraction completed for link 108. Text saved to C:\\Users\\rohit\\Python\\drive-download-20230909T190744Z-001\\extracted_articles\\50921.0.txt\n",
      "extraction completed for link 109. Text saved to C:\\Users\\rohit\\Python\\drive-download-20230909T190744Z-001\\extracted_articles\\51382.8.txt\n",
      "extraction completed for link 110. Text saved to C:\\Users\\rohit\\Python\\drive-download-20230909T190744Z-001\\extracted_articles\\51844.6.txt\n",
      "extraction completed for link 111. Text saved to C:\\Users\\rohit\\Python\\drive-download-20230909T190744Z-001\\extracted_articles\\52306.4.txt\n",
      "extraction completed for link 112. Text saved to C:\\Users\\rohit\\Python\\drive-download-20230909T190744Z-001\\extracted_articles\\52768.2.txt\n"
     ]
    }
   ],
   "source": [
    "# extracting\n",
    "for idx, link in enumerate(urls):\n",
    "    \n",
    "    extracted_text = extract_text(link, xpaths[idx])\n",
    "    extracted_text = ''.join(extracted_text)\n",
    "    \n",
    "    if extracted_text:\n",
    "        output_file = f\"C:\\\\Users\\\\rohit\\\\Python\\\\drive-download-20230909T190744Z-001\\\\extracted_articles\\\\{file_names[idx]}.txt\"\n",
    "        save_to_txt(output_file, extracted_text)\n",
    "        print(f'extraction completed for link {idx + 1}. Text saved to {output_file}')\n",
    "    else:\n",
    "        print(f'No text was extracted for link {idx + 1}.')"
   ]
  },
  {
   "cell_type": "code",
   "execution_count": null,
   "id": "be3eb888",
   "metadata": {},
   "outputs": [],
   "source": []
  }
 ],
 "metadata": {
  "kernelspec": {
   "display_name": "Python 3 (ipykernel)",
   "language": "python",
   "name": "python3"
  },
  "language_info": {
   "codemirror_mode": {
    "name": "ipython",
    "version": 3
   },
   "file_extension": ".py",
   "mimetype": "text/x-python",
   "name": "python",
   "nbconvert_exporter": "python",
   "pygments_lexer": "ipython3",
   "version": "3.9.12"
  }
 },
 "nbformat": 4,
 "nbformat_minor": 5
}
